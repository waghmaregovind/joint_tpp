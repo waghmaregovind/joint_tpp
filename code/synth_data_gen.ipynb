{
 "cells": [
  {
   "cell_type": "code",
   "execution_count": null,
   "metadata": {},
   "outputs": [],
   "source": [
    "# !pip install ipython-autotime "
   ]
  },
  {
   "cell_type": "code",
   "execution_count": 2,
   "metadata": {},
   "outputs": [
    {
     "name": "stdout",
     "output_type": "stream",
     "text": [
      "time: 394 µs (started: 2022-08-11 16:41:10 +05:30)\n"
     ]
    }
   ],
   "source": [
    "%load_ext autotime\n",
    "# %unload_ext autotime"
   ]
  },
  {
   "cell_type": "code",
   "execution_count": 1,
   "metadata": {},
   "outputs": [
    {
     "ename": "AttributeError",
     "evalue": "module 'tick' has no attribute '__version__'",
     "output_type": "error",
     "traceback": [
      "\u001b[0;31m---------------------------------------------------------------------------\u001b[0m",
      "\u001b[0;31mAttributeError\u001b[0m                            Traceback (most recent call last)",
      "Input \u001b[0;32mIn [1]\u001b[0m, in \u001b[0;36m<cell line: 2>\u001b[0;34m()\u001b[0m\n\u001b[1;32m      1\u001b[0m \u001b[38;5;28;01mimport\u001b[39;00m \u001b[38;5;21;01mtick\u001b[39;00m\n\u001b[0;32m----> 2\u001b[0m \u001b[43mtick\u001b[49m\u001b[38;5;241;43m.\u001b[39;49m\u001b[43m__version__\u001b[49m\n",
      "\u001b[0;31mAttributeError\u001b[0m: module 'tick' has no attribute '__version__'"
     ]
    }
   ],
   "source": [
    "import tick"
   ]
  },
  {
   "cell_type": "code",
   "execution_count": 3,
   "metadata": {},
   "outputs": [
    {
     "name": "stderr",
     "output_type": "stream",
     "text": [
      "2022-08-11 16:41:15.940483: W tensorflow/stream_executor/platform/default/dso_loader.cc:64] Could not load dynamic library 'libcudart.so.11.0'; dlerror: libcudart.so.11.0: cannot open shared object file: No such file or directory\n",
      "2022-08-11 16:41:15.940529: I tensorflow/stream_executor/cuda/cudart_stub.cc:29] Ignore above cudart dlerror if you do not have a GPU set up on your machine.\n",
      "/home/gvw/Documents/foo_env/lib/python3.8/site-packages/tqdm/auto.py:22: TqdmWarning: IProgress not found. Please update jupyter and ipywidgets. See https://ipywidgets.readthedocs.io/en/stable/user_install.html\n",
      "  from .autonotebook import tqdm as notebook_tqdm\n"
     ]
    },
    {
     "name": "stdout",
     "output_type": "stream",
     "text": [
      "time: 16.3 s (started: 2022-08-11 16:41:10 +05:30)\n"
     ]
    }
   ],
   "source": [
    "from tick.hawkes import SimuHawkes, HawkesKernelExp\n",
    "from tqdm.auto import tqdm\n",
    "import numpy as np\n",
    "import torch"
   ]
  },
  {
   "cell_type": "code",
   "execution_count": 4,
   "metadata": {},
   "outputs": [
    {
     "name": "stdout",
     "output_type": "stream",
     "text": [
      "time: 6.04 ms (started: 2022-08-11 16:41:26 +05:30)\n"
     ]
    }
   ],
   "source": [
    "# Some code is from: https://github.com/babylonhealth/neuralTPPs/blob/831ed1c203c93b4e408b83b1d457af19372d6267/tpp/processes/multi_class_dataset.py#L181\n",
    "# tick documentation: https://x-datainitiative.github.io/tick/modules/hawkes.html\n",
    "\n",
    "def generate_points(mu, alpha, decay, window, seed, dt=0.01):\n",
    "    \"\"\"\n",
    "    Generates points of an marked Hawkes processes using the tick library\n",
    "    \"\"\"\n",
    "    \n",
    "    n_processes = len(mu)\n",
    "    hawkes = SimuHawkes(n_nodes=n_processes, end_time=window, verbose=False, seed=seed)\n",
    "    \n",
    "    for i in range(n_processes):\n",
    "        for j in range(n_processes):\n",
    "            hawkes.set_kernel(i=i, j=j, kernel=HawkesKernelExp(intensity=alpha[i][j] / decay[i][j], decay=decay[i][j]))\n",
    "        hawkes.set_baseline(i, mu[i])\n",
    "\n",
    "    hawkes.track_intensity(dt)\n",
    "    hawkes.simulate()\n",
    "    return hawkes.timestamps\n",
    "\n",
    "\n",
    "def hawkes_helper(mu, alpha, decay, window, in_seed, in_range):\n",
    "    times_marked = [generate_points(mu=mu, alpha=alpha, decay=decay, window=window, seed=in_seed+i) for i in tqdm(range(in_range))] \n",
    "    records = [hawkes_seq_to_record(r) for r in (times_marked)]\n",
    "    return records\n",
    "\n",
    "\n",
    "def hawkes_seq_to_record(seq):\n",
    "    times = np.concatenate(seq)\n",
    "    labels = np.concatenate([[i] * len(x) for i, x in enumerate(seq)])\n",
    "    sort_idx = np.argsort(times)\n",
    "    times = times[sort_idx]\n",
    "    labels = labels[sort_idx]\n",
    "    record = [\n",
    "        {\"time\": float(t),\n",
    "         \"labels\": (int(l),)} for t, l in zip(times, labels)]\n",
    "    return record\n",
    "\n",
    "\n",
    "def combine_splits(d_train, d_val, d_test):\n",
    "    sequences = []\n",
    "    \n",
    "    for dataset in ([d_train, d_val, d_test]):\n",
    "        for i in range(len(dataset)):\n",
    "            event_dict = {}\n",
    "            arrival_times = []\n",
    "            marks = []\n",
    "            for j in range(len(dataset[i])):\n",
    "                curr_time = dataset[i][j]['time']\n",
    "                curr_mark = dataset[i][j]['labels'][0]\n",
    "                arrival_times.append(curr_time)\n",
    "                marks.append(curr_mark)\n",
    "\n",
    "            event_dict['t_start'] = 0\n",
    "            event_dict['t_end'] = 100\n",
    "            event_dict['arrival_times'] = arrival_times\n",
    "            event_dict['marks'] = marks\n",
    "\n",
    "            sequences.append(event_dict)\n",
    "            \n",
    "    return sequences\n",
    "\n",
    "\n",
    "def dataset_helper(mu, alpha, beta, window, seed, train_size, val_size, test_size, save_path):\n",
    "    train_seed = seed\n",
    "    val_seed = seed + train_size\n",
    "    test_seed = seed + train_size + val_size\n",
    "\n",
    "    d_train = hawkes_helper(mu, alpha, beta, window, train_seed, train_size)\n",
    "    d_val = hawkes_helper(mu, alpha, beta, window, val_seed, val_size)\n",
    "    d_test = hawkes_helper(mu, alpha, beta, window, test_seed, test_size)\n",
    "\n",
    "    sequences = combine_splits(d_train, d_val, d_test)\n",
    "    dataset = {'sequences':sequences, 'num_marks':len(mu)}\n",
    "    torch.save(dataset, save_path)"
   ]
  },
  {
   "cell_type": "markdown",
   "metadata": {},
   "source": [
    "### Hawkes Ind."
   ]
  },
  {
   "cell_type": "code",
   "execution_count": 5,
   "metadata": {},
   "outputs": [
    {
     "name": "stderr",
     "output_type": "stream",
     "text": [
      "100%|██████████████████████████████████████████████████████████████████████████████████████████████████| 14745/14745 [00:30<00:00, 477.14it/s]\n",
      "100%|████████████████████████████████████████████████████████████████████████████████████████████████████| 4915/4915 [00:10<00:00, 482.02it/s]\n",
      "100%|████████████████████████████████████████████████████████████████████████████████████████████████████| 4916/4916 [00:09<00:00, 503.92it/s]\n"
     ]
    },
    {
     "name": "stdout",
     "output_type": "stream",
     "text": [
      "time: 53.5 s (started: 2022-08-11 16:41:26 +05:30)\n"
     ]
    }
   ],
   "source": [
    "mu = [0.1, 0.05]\n",
    "alpha = [[0.2, 0.0], [0.0, 0.4]]\n",
    "beta =  [[1.0, 1.0], [1.0, 2.0]]\n",
    "\n",
    "window = 100  \n",
    "seed = 0\n",
    "train_size = 14745\n",
    "val_size = 4915\n",
    "test_size = 4916\n",
    "save_path = '../data/synth/hawkes_ind.pkl'\n",
    "\n",
    "dataset_helper(mu, alpha, beta, window, seed, train_size, val_size, test_size, save_path)"
   ]
  },
  {
   "cell_type": "markdown",
   "metadata": {},
   "source": [
    "### Hawkes Dep. I"
   ]
  },
  {
   "cell_type": "code",
   "execution_count": 6,
   "metadata": {},
   "outputs": [
    {
     "name": "stderr",
     "output_type": "stream",
     "text": [
      "100%|██████████████████████████████████████████████████████████████████████████████████████████████████| 14745/14745 [00:32<00:00, 456.32it/s]\n",
      "100%|████████████████████████████████████████████████████████████████████████████████████████████████████| 4915/4915 [00:11<00:00, 444.66it/s]\n",
      "100%|████████████████████████████████████████████████████████████████████████████████████████████████████| 4917/4917 [00:10<00:00, 451.06it/s]\n"
     ]
    },
    {
     "name": "stdout",
     "output_type": "stream",
     "text": [
      "time: 57.2 s (started: 2022-08-11 16:42:19 +05:30)\n"
     ]
    }
   ],
   "source": [
    "mu = [0.1, 0.05]\n",
    "alpha = [[0.2, 0.1], [0.2, 0.3]]\n",
    "beta =  [[1.0, 1.0], [1.0, 1.0]]\n",
    "\n",
    "window = 100  \n",
    "seed = 0\n",
    "train_size = 14745\n",
    "val_size = 4915\n",
    "test_size = 4917\n",
    "save_path = '../data/synth/hawkes_dep_I.pkl'\n",
    "\n",
    "dataset_helper(mu, alpha, beta, window, seed, train_size, val_size, test_size, save_path)"
   ]
  },
  {
   "cell_type": "markdown",
   "metadata": {},
   "source": [
    "### Hawkes Dep. II"
   ]
  },
  {
   "cell_type": "code",
   "execution_count": 7,
   "metadata": {},
   "outputs": [
    {
     "name": "stderr",
     "output_type": "stream",
     "text": [
      "100%|██████████████████████████████████████████████████████████████████████████████████████████████████| 18000/18000 [02:37<00:00, 114.22it/s]\n",
      "100%|████████████████████████████████████████████████████████████████████████████████████████████████████| 6000/6000 [00:52<00:00, 114.56it/s]\n",
      "100%|████████████████████████████████████████████████████████████████████████████████████████████████████| 6000/6000 [00:52<00:00, 114.02it/s]\n"
     ]
    },
    {
     "name": "stdout",
     "output_type": "stream",
     "text": [
      "time: 5min 20s (started: 2022-08-11 16:43:17 +05:30)\n"
     ]
    }
   ],
   "source": [
    "mu = [0.713, 0.057, 0.844, 0.254, 0.344]\n",
    "\n",
    "alpha = [[0.689, 0.549, 0.066, 0.819, 0.007], \n",
    "         [0.630, 0.000, 0.457, 0.622, 0.141], \n",
    "         [0.134, 0.579, 0.821, 0.527, 0.795], \n",
    "         [0.199, 0.556, 0.147, 0.030, 0.649], \n",
    "         [0.353, 0.557, 0.892, 0.638, 0.836]] \n",
    "\n",
    "\n",
    "beta = [[9.325, 9.764, 2.581, 4.007, 9.319],\n",
    "        [5.759, 8.742, 4.741, 7.320, 9.768],\n",
    "        [2.841, 4.349, 6.920, 5.640, 3.839],\n",
    "        [6.710, 7.460, 3.685, 4.052, 6.813], \n",
    "        [2.486, 2.214, 8.718, 4.594, 2.642]]\n",
    "\n",
    "window = 100  \n",
    "seed = 0\n",
    "train_size = 18000\n",
    "val_size = 6000\n",
    "test_size = 6000\n",
    "save_path = '../data/synth/hawkes_dep_II.pkl'\n",
    "\n",
    "dataset_helper(mu, alpha, beta, window, seed, train_size, val_size, test_size, save_path)"
   ]
  }
 ],
 "metadata": {
  "kernelspec": {
   "display_name": "foo_env",
   "language": "python",
   "name": "foo_env"
  },
  "language_info": {
   "codemirror_mode": {
    "name": "ipython",
    "version": 3
   },
   "file_extension": ".py",
   "mimetype": "text/x-python",
   "name": "python",
   "nbconvert_exporter": "python",
   "pygments_lexer": "ipython3",
   "version": "3.8.10"
  },
  "toc": {
   "base_numbering": 1,
   "nav_menu": {},
   "number_sections": true,
   "sideBar": true,
   "skip_h1_title": false,
   "title_cell": "Table of Contents",
   "title_sidebar": "Contents",
   "toc_cell": false,
   "toc_position": {},
   "toc_section_display": true,
   "toc_window_display": false
  }
 },
 "nbformat": 4,
 "nbformat_minor": 4
}
